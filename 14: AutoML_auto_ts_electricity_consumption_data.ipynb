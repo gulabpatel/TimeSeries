{
  "nbformat": 4,
  "nbformat_minor": 0,
  "metadata": {
    "colab": {
      "name": "AutoML_auto_ts_Timeseries_Python.ipynb",
      "provenance": []
    },
    "kernelspec": {
      "name": "python3",
      "display_name": "Python 3"
    }
  },
  "cells": [
    {
      "cell_type": "code",
      "metadata": {
        "id": "oG9AwKBh1PLF",
        "colab": {
          "base_uri": "https://localhost:8080/"
        },
        "outputId": "4f133d93-f4aa-487a-cda5-94b75c975ef4"
      },
      "source": [
        "#install auto_ts(auto time series)\n",
        "!pip install auto_ts"
      ],
      "execution_count": 1,
      "outputs": [
        {
          "output_type": "stream",
          "text": [
            "Collecting auto_ts\n",
            "\u001b[?25l  Downloading https://files.pythonhosted.org/packages/bc/b1/9ac83e74b805216fb69f3af78a354470823c23fdf6fbcdcfb59df6c8f557/auto_ts-0.0.36-py3-none-any.whl (90kB)\n",
            "\u001b[K     |████████████████████████████████| 92kB 3.9MB/s \n",
            "\u001b[?25hRequirement already satisfied: statsmodels in /usr/local/lib/python3.7/dist-packages (from auto_ts) (0.10.2)\n",
            "Requirement already satisfied: seaborn in /usr/local/lib/python3.7/dist-packages (from auto_ts) (0.11.1)\n",
            "Requirement already satisfied: jupyter in /usr/local/lib/python3.7/dist-packages (from auto_ts) (1.0.0)\n",
            "Requirement already satisfied: pandas in /usr/local/lib/python3.7/dist-packages (from auto_ts) (1.1.5)\n",
            "Requirement already satisfied: xgboost in /usr/local/lib/python3.7/dist-packages (from auto_ts) (0.90)\n",
            "Requirement already satisfied: ipython in /usr/local/lib/python3.7/dist-packages (from auto_ts) (5.5.0)\n",
            "Collecting pmdarima\n",
            "\u001b[?25l  Downloading https://files.pythonhosted.org/packages/f4/c2/2a94bce6bba1deac3c0b16dbb14f28de0b9035e3211919cae8448455aa65/pmdarima-1.8.2-cp37-cp37m-manylinux1_x86_64.whl (1.5MB)\n",
            "\u001b[K     |████████████████████████████████| 1.5MB 7.4MB/s \n",
            "\u001b[?25hRequirement already satisfied: fbprophet in /usr/local/lib/python3.7/dist-packages (from auto_ts) (0.7.1)\n",
            "Collecting dask>=2.30.0\n",
            "\u001b[?25l  Downloading https://files.pythonhosted.org/packages/31/a2/59bd5d72cfe1ecc540d1307fc4cca8ac5151d625e0a68474e21cf7b2267d/dask-2021.6.0-py3-none-any.whl (965kB)\n",
            "\u001b[K     |████████████████████████████████| 972kB 19.4MB/s \n",
            "\u001b[?25hRequirement already satisfied: matplotlib in /usr/local/lib/python3.7/dist-packages (from auto_ts) (3.2.2)\n",
            "Collecting scikit-learn>=0.24.0\n",
            "\u001b[?25l  Downloading https://files.pythonhosted.org/packages/a8/eb/a48f25c967526b66d5f1fa7a984594f0bf0a5afafa94a8c4dbc317744620/scikit_learn-0.24.2-cp37-cp37m-manylinux2010_x86_64.whl (22.3MB)\n",
            "\u001b[K     |████████████████████████████████| 22.3MB 51.0MB/s \n",
            "\u001b[?25hRequirement already satisfied: prettytable in /usr/local/lib/python3.7/dist-packages (from auto_ts) (2.1.0)\n",
            "Requirement already satisfied: scipy>=0.18 in /usr/local/lib/python3.7/dist-packages (from statsmodels->auto_ts) (1.4.1)\n",
            "Requirement already satisfied: patsy>=0.4.0 in /usr/local/lib/python3.7/dist-packages (from statsmodels->auto_ts) (0.5.1)\n",
            "Requirement already satisfied: numpy>=1.11 in /usr/local/lib/python3.7/dist-packages (from statsmodels->auto_ts) (1.19.5)\n",
            "Requirement already satisfied: qtconsole in /usr/local/lib/python3.7/dist-packages (from jupyter->auto_ts) (5.1.0)\n",
            "Requirement already satisfied: notebook in /usr/local/lib/python3.7/dist-packages (from jupyter->auto_ts) (5.3.1)\n",
            "Requirement already satisfied: ipykernel in /usr/local/lib/python3.7/dist-packages (from jupyter->auto_ts) (4.10.1)\n",
            "Requirement already satisfied: jupyter-console in /usr/local/lib/python3.7/dist-packages (from jupyter->auto_ts) (5.2.0)\n",
            "Requirement already satisfied: nbconvert in /usr/local/lib/python3.7/dist-packages (from jupyter->auto_ts) (5.6.1)\n",
            "Requirement already satisfied: ipywidgets in /usr/local/lib/python3.7/dist-packages (from jupyter->auto_ts) (7.6.3)\n",
            "Requirement already satisfied: python-dateutil>=2.7.3 in /usr/local/lib/python3.7/dist-packages (from pandas->auto_ts) (2.8.1)\n",
            "Requirement already satisfied: pytz>=2017.2 in /usr/local/lib/python3.7/dist-packages (from pandas->auto_ts) (2018.9)\n",
            "Requirement already satisfied: prompt-toolkit<2.0.0,>=1.0.4 in /usr/local/lib/python3.7/dist-packages (from ipython->auto_ts) (1.0.18)\n",
            "Requirement already satisfied: decorator in /usr/local/lib/python3.7/dist-packages (from ipython->auto_ts) (4.4.2)\n",
            "Requirement already satisfied: pygments in /usr/local/lib/python3.7/dist-packages (from ipython->auto_ts) (2.6.1)\n",
            "Requirement already satisfied: traitlets>=4.2 in /usr/local/lib/python3.7/dist-packages (from ipython->auto_ts) (5.0.5)\n",
            "Requirement already satisfied: pexpect; sys_platform != \"win32\" in /usr/local/lib/python3.7/dist-packages (from ipython->auto_ts) (4.8.0)\n",
            "Requirement already satisfied: setuptools>=18.5 in /usr/local/lib/python3.7/dist-packages (from ipython->auto_ts) (57.0.0)\n",
            "Requirement already satisfied: pickleshare in /usr/local/lib/python3.7/dist-packages (from ipython->auto_ts) (0.7.5)\n",
            "Requirement already satisfied: simplegeneric>0.8 in /usr/local/lib/python3.7/dist-packages (from ipython->auto_ts) (0.8.1)\n",
            "Requirement already satisfied: urllib3 in /usr/local/lib/python3.7/dist-packages (from pmdarima->auto_ts) (1.24.3)\n",
            "Requirement already satisfied: Cython!=0.29.18,>=0.29 in /usr/local/lib/python3.7/dist-packages (from pmdarima->auto_ts) (0.29.23)\n",
            "Requirement already satisfied: joblib>=0.11 in /usr/local/lib/python3.7/dist-packages (from pmdarima->auto_ts) (1.0.1)\n",
            "Requirement already satisfied: cmdstanpy==0.9.5 in /usr/local/lib/python3.7/dist-packages (from fbprophet->auto_ts) (0.9.5)\n",
            "Requirement already satisfied: pystan>=2.14 in /usr/local/lib/python3.7/dist-packages (from fbprophet->auto_ts) (2.19.1.1)\n",
            "Requirement already satisfied: LunarCalendar>=0.0.9 in /usr/local/lib/python3.7/dist-packages (from fbprophet->auto_ts) (0.0.9)\n",
            "Requirement already satisfied: convertdate>=2.1.2 in /usr/local/lib/python3.7/dist-packages (from fbprophet->auto_ts) (2.3.2)\n",
            "Requirement already satisfied: holidays>=0.10.2 in /usr/local/lib/python3.7/dist-packages (from fbprophet->auto_ts) (0.10.5.2)\n",
            "Requirement already satisfied: setuptools-git>=1.2 in /usr/local/lib/python3.7/dist-packages (from fbprophet->auto_ts) (1.2)\n",
            "Requirement already satisfied: tqdm>=4.36.1 in /usr/local/lib/python3.7/dist-packages (from fbprophet->auto_ts) (4.41.1)\n",
            "Collecting fsspec>=0.6.0\n",
            "\u001b[?25l  Downloading https://files.pythonhosted.org/packages/8e/d2/d05466997f7751a2c06a7a416b7d1f131d765f7916698d3fdcb3a4d037e5/fsspec-2021.6.0-py3-none-any.whl (114kB)\n",
            "\u001b[K     |████████████████████████████████| 122kB 27.0MB/s \n",
            "\u001b[?25hCollecting partd>=0.3.10\n",
            "  Downloading https://files.pythonhosted.org/packages/41/94/360258a68b55f47859d72b2d0b2b3cfe0ca4fbbcb81b78812bd00ae86b7c/partd-1.2.0-py3-none-any.whl\n",
            "Requirement already satisfied: pyyaml in /usr/local/lib/python3.7/dist-packages (from dask>=2.30.0->auto_ts) (3.13)\n",
            "Requirement already satisfied: cloudpickle>=1.1.1 in /usr/local/lib/python3.7/dist-packages (from dask>=2.30.0->auto_ts) (1.3.0)\n",
            "Requirement already satisfied: toolz>=0.8.2 in /usr/local/lib/python3.7/dist-packages (from dask>=2.30.0->auto_ts) (0.11.1)\n",
            "Requirement already satisfied: kiwisolver>=1.0.1 in /usr/local/lib/python3.7/dist-packages (from matplotlib->auto_ts) (1.3.1)\n",
            "Requirement already satisfied: cycler>=0.10 in /usr/local/lib/python3.7/dist-packages (from matplotlib->auto_ts) (0.10.0)\n",
            "Requirement already satisfied: pyparsing!=2.0.4,!=2.1.2,!=2.1.6,>=2.0.1 in /usr/local/lib/python3.7/dist-packages (from matplotlib->auto_ts) (2.4.7)\n",
            "Collecting threadpoolctl>=2.0.0\n",
            "  Downloading https://files.pythonhosted.org/packages/f7/12/ec3f2e203afa394a149911729357aa48affc59c20e2c1c8297a60f33f133/threadpoolctl-2.1.0-py3-none-any.whl\n",
            "Requirement already satisfied: importlib-metadata; python_version < \"3.8\" in /usr/local/lib/python3.7/dist-packages (from prettytable->auto_ts) (4.0.1)\n",
            "Requirement already satisfied: wcwidth in /usr/local/lib/python3.7/dist-packages (from prettytable->auto_ts) (0.2.5)\n",
            "Requirement already satisfied: six in /usr/local/lib/python3.7/dist-packages (from patsy>=0.4.0->statsmodels->auto_ts) (1.15.0)\n",
            "Requirement already satisfied: jupyter-client>=4.1 in /usr/local/lib/python3.7/dist-packages (from qtconsole->jupyter->auto_ts) (5.3.5)\n",
            "Requirement already satisfied: qtpy in /usr/local/lib/python3.7/dist-packages (from qtconsole->jupyter->auto_ts) (1.9.0)\n",
            "Requirement already satisfied: pyzmq>=17.1 in /usr/local/lib/python3.7/dist-packages (from qtconsole->jupyter->auto_ts) (22.0.3)\n",
            "Requirement already satisfied: ipython-genutils in /usr/local/lib/python3.7/dist-packages (from qtconsole->jupyter->auto_ts) (0.2.0)\n",
            "Requirement already satisfied: jupyter-core in /usr/local/lib/python3.7/dist-packages (from qtconsole->jupyter->auto_ts) (4.7.1)\n",
            "Requirement already satisfied: terminado>=0.8.1 in /usr/local/lib/python3.7/dist-packages (from notebook->jupyter->auto_ts) (0.10.0)\n",
            "Requirement already satisfied: nbformat in /usr/local/lib/python3.7/dist-packages (from notebook->jupyter->auto_ts) (5.1.3)\n",
            "Requirement already satisfied: tornado>=4 in /usr/local/lib/python3.7/dist-packages (from notebook->jupyter->auto_ts) (5.1.1)\n",
            "Requirement already satisfied: Send2Trash in /usr/local/lib/python3.7/dist-packages (from notebook->jupyter->auto_ts) (1.5.0)\n",
            "Requirement already satisfied: jinja2 in /usr/local/lib/python3.7/dist-packages (from notebook->jupyter->auto_ts) (2.11.3)\n",
            "Requirement already satisfied: mistune<2,>=0.8.1 in /usr/local/lib/python3.7/dist-packages (from nbconvert->jupyter->auto_ts) (0.8.4)\n",
            "Requirement already satisfied: testpath in /usr/local/lib/python3.7/dist-packages (from nbconvert->jupyter->auto_ts) (0.5.0)\n",
            "Requirement already satisfied: pandocfilters>=1.4.1 in /usr/local/lib/python3.7/dist-packages (from nbconvert->jupyter->auto_ts) (1.4.3)\n",
            "Requirement already satisfied: entrypoints>=0.2.2 in /usr/local/lib/python3.7/dist-packages (from nbconvert->jupyter->auto_ts) (0.3)\n",
            "Requirement already satisfied: defusedxml in /usr/local/lib/python3.7/dist-packages (from nbconvert->jupyter->auto_ts) (0.7.1)\n",
            "Requirement already satisfied: bleach in /usr/local/lib/python3.7/dist-packages (from nbconvert->jupyter->auto_ts) (3.3.0)\n",
            "Requirement already satisfied: jupyterlab-widgets>=1.0.0; python_version >= \"3.6\" in /usr/local/lib/python3.7/dist-packages (from ipywidgets->jupyter->auto_ts) (1.0.0)\n",
            "Requirement already satisfied: widgetsnbextension~=3.5.0 in /usr/local/lib/python3.7/dist-packages (from ipywidgets->jupyter->auto_ts) (3.5.1)\n",
            "Requirement already satisfied: ptyprocess>=0.5 in /usr/local/lib/python3.7/dist-packages (from pexpect; sys_platform != \"win32\"->ipython->auto_ts) (0.7.0)\n",
            "Requirement already satisfied: ephem>=3.7.5.3 in /usr/local/lib/python3.7/dist-packages (from LunarCalendar>=0.0.9->fbprophet->auto_ts) (3.7.7.1)\n",
            "Requirement already satisfied: pymeeus<=1,>=0.3.13 in /usr/local/lib/python3.7/dist-packages (from convertdate>=2.1.2->fbprophet->auto_ts) (0.5.11)\n",
            "Requirement already satisfied: korean-lunar-calendar in /usr/local/lib/python3.7/dist-packages (from holidays>=0.10.2->fbprophet->auto_ts) (0.2.1)\n",
            "Requirement already satisfied: hijri-converter in /usr/local/lib/python3.7/dist-packages (from holidays>=0.10.2->fbprophet->auto_ts) (2.1.1)\n",
            "Collecting locket\n",
            "  Downloading https://files.pythonhosted.org/packages/50/b8/e789e45b9b9c2db75e9d9e6ceb022c8d1d7e49b2c085ce8c05600f90a96b/locket-0.2.1-py2.py3-none-any.whl\n",
            "Requirement already satisfied: typing-extensions>=3.6.4; python_version < \"3.8\" in /usr/local/lib/python3.7/dist-packages (from importlib-metadata; python_version < \"3.8\"->prettytable->auto_ts) (3.7.4.3)\n",
            "Requirement already satisfied: zipp>=0.5 in /usr/local/lib/python3.7/dist-packages (from importlib-metadata; python_version < \"3.8\"->prettytable->auto_ts) (3.4.1)\n",
            "Requirement already satisfied: jsonschema!=2.5.0,>=2.4 in /usr/local/lib/python3.7/dist-packages (from nbformat->notebook->jupyter->auto_ts) (2.6.0)\n",
            "Requirement already satisfied: MarkupSafe>=0.23 in /usr/local/lib/python3.7/dist-packages (from jinja2->notebook->jupyter->auto_ts) (2.0.1)\n",
            "Requirement already satisfied: packaging in /usr/local/lib/python3.7/dist-packages (from bleach->nbconvert->jupyter->auto_ts) (20.9)\n",
            "Requirement already satisfied: webencodings in /usr/local/lib/python3.7/dist-packages (from bleach->nbconvert->jupyter->auto_ts) (0.5.1)\n",
            "\u001b[31mERROR: pmdarima 1.8.2 has requirement statsmodels!=0.12.0,>=0.11, but you'll have statsmodels 0.10.2 which is incompatible.\u001b[0m\n",
            "Installing collected packages: threadpoolctl, scikit-learn, pmdarima, fsspec, locket, partd, dask, auto-ts\n",
            "  Found existing installation: scikit-learn 0.22.2.post1\n",
            "    Uninstalling scikit-learn-0.22.2.post1:\n",
            "      Successfully uninstalled scikit-learn-0.22.2.post1\n",
            "  Found existing installation: dask 2.12.0\n",
            "    Uninstalling dask-2.12.0:\n",
            "      Successfully uninstalled dask-2.12.0\n",
            "Successfully installed auto-ts-0.0.36 dask-2021.6.0 fsspec-2021.6.0 locket-0.2.1 partd-1.2.0 pmdarima-1.8.2 scikit-learn-0.24.2 threadpoolctl-2.1.0\n"
          ],
          "name": "stdout"
        }
      ]
    },
    {
      "cell_type": "code",
      "metadata": {
        "id": "CY5G7SE9PLEB",
        "colab": {
          "base_uri": "https://localhost:8080/"
        },
        "outputId": "26add759-6e7a-4918-afeb-61565a19740e"
      },
      "source": [
        "import matplotlib as mpl\n",
        "import matplotlib.pyplot as plt\n",
        "from datetime import datetime\n",
        "import auto_ts as AT\n",
        "\n",
        "import pandas as pd\n",
        "\n",
        "mpl.rcParams['figure.figsize'] = (8, 6)\n",
        "mpl.rcParams['axes.grid'] = False\n"
      ],
      "execution_count": 2,
      "outputs": [
        {
          "output_type": "stream",
          "text": [
            "Imported auto_timeseries version:0.0.36. Call by using:\n",
            "model = auto_timeseries(score_type='rmse',\n",
            "                time_interval='M',\n",
            "                non_seasonal_pdq=None, seasonality=False, seasonal_period=12,\n",
            "                model_type=['best'],\n",
            "                verbose=2)\n",
            "model.fit(traindata, ts_column,target)\n",
            "model.predict(testdata, model='best')\n",
            "\n"
          ],
          "name": "stdout"
        }
      ]
    },
    {
      "cell_type": "code",
      "metadata": {
        "id": "pc9-9rleb9_Y"
      },
      "source": [
        "def parse(x):\n",
        "\treturn datetime.strptime(x, '%m/%d/%Y')"
      ],
      "execution_count": 3,
      "outputs": []
    },
    {
      "cell_type": "code",
      "metadata": {
        "id": "WSoh7Ze0P-jd"
      },
      "source": [
        "df = pd.read_csv('https://raw.githubusercontent.com/srivatsan88/YouTubeLI/master/dataset/electricity_consumption.csv', parse_dates = ['Bill_Date'],date_parser=parse)"
      ],
      "execution_count": 4,
      "outputs": []
    },
    {
      "cell_type": "code",
      "metadata": {
        "id": "7ZIkHt4_sD4u",
        "colab": {
          "base_uri": "https://localhost:8080/",
          "height": 1000
        },
        "outputId": "a506d816-7d9e-45da-f831-593b2bbcc325"
      },
      "source": [
        "df"
      ],
      "execution_count": 5,
      "outputs": [
        {
          "output_type": "execute_result",
          "data": {
            "text/html": [
              "<div>\n",
              "<style scoped>\n",
              "    .dataframe tbody tr th:only-of-type {\n",
              "        vertical-align: middle;\n",
              "    }\n",
              "\n",
              "    .dataframe tbody tr th {\n",
              "        vertical-align: top;\n",
              "    }\n",
              "\n",
              "    .dataframe thead th {\n",
              "        text-align: right;\n",
              "    }\n",
              "</style>\n",
              "<table border=\"1\" class=\"dataframe\">\n",
              "  <thead>\n",
              "    <tr style=\"text-align: right;\">\n",
              "      <th></th>\n",
              "      <th>Bill_Date</th>\n",
              "      <th>On_peak</th>\n",
              "      <th>Off_peak</th>\n",
              "      <th>Usage_charge</th>\n",
              "      <th>Billed_amount</th>\n",
              "      <th>Billing_days</th>\n",
              "    </tr>\n",
              "  </thead>\n",
              "  <tbody>\n",
              "    <tr>\n",
              "      <th>0</th>\n",
              "      <td>2016-01-01</td>\n",
              "      <td>365</td>\n",
              "      <td>1423.5</td>\n",
              "      <td>219.00</td>\n",
              "      <td>247.73</td>\n",
              "      <td>31</td>\n",
              "    </tr>\n",
              "    <tr>\n",
              "      <th>1</th>\n",
              "      <td>2016-02-01</td>\n",
              "      <td>292</td>\n",
              "      <td>1138.8</td>\n",
              "      <td>175.20</td>\n",
              "      <td>234.11</td>\n",
              "      <td>31</td>\n",
              "    </tr>\n",
              "    <tr>\n",
              "      <th>2</th>\n",
              "      <td>2016-03-01</td>\n",
              "      <td>130</td>\n",
              "      <td>507.0</td>\n",
              "      <td>78.00</td>\n",
              "      <td>123.85</td>\n",
              "      <td>29</td>\n",
              "    </tr>\n",
              "    <tr>\n",
              "      <th>3</th>\n",
              "      <td>2016-04-01</td>\n",
              "      <td>117</td>\n",
              "      <td>456.3</td>\n",
              "      <td>70.20</td>\n",
              "      <td>111.22</td>\n",
              "      <td>29</td>\n",
              "    </tr>\n",
              "    <tr>\n",
              "      <th>4</th>\n",
              "      <td>2016-05-01</td>\n",
              "      <td>136</td>\n",
              "      <td>530.4</td>\n",
              "      <td>81.60</td>\n",
              "      <td>118.37</td>\n",
              "      <td>29</td>\n",
              "    </tr>\n",
              "    <tr>\n",
              "      <th>5</th>\n",
              "      <td>2016-06-01</td>\n",
              "      <td>63</td>\n",
              "      <td>245.7</td>\n",
              "      <td>37.80</td>\n",
              "      <td>77.81</td>\n",
              "      <td>32</td>\n",
              "    </tr>\n",
              "    <tr>\n",
              "      <th>6</th>\n",
              "      <td>2016-07-01</td>\n",
              "      <td>110</td>\n",
              "      <td>429.0</td>\n",
              "      <td>66.00</td>\n",
              "      <td>86.67</td>\n",
              "      <td>30</td>\n",
              "    </tr>\n",
              "    <tr>\n",
              "      <th>7</th>\n",
              "      <td>2016-08-01</td>\n",
              "      <td>176</td>\n",
              "      <td>686.4</td>\n",
              "      <td>105.60</td>\n",
              "      <td>122.40</td>\n",
              "      <td>29</td>\n",
              "    </tr>\n",
              "    <tr>\n",
              "      <th>8</th>\n",
              "      <td>2016-09-01</td>\n",
              "      <td>357</td>\n",
              "      <td>1392.3</td>\n",
              "      <td>214.20</td>\n",
              "      <td>223.62</td>\n",
              "      <td>33</td>\n",
              "    </tr>\n",
              "    <tr>\n",
              "      <th>9</th>\n",
              "      <td>2016-10-01</td>\n",
              "      <td>235</td>\n",
              "      <td>916.5</td>\n",
              "      <td>141.00</td>\n",
              "      <td>152.54</td>\n",
              "      <td>29</td>\n",
              "    </tr>\n",
              "    <tr>\n",
              "      <th>10</th>\n",
              "      <td>2016-11-01</td>\n",
              "      <td>193</td>\n",
              "      <td>752.7</td>\n",
              "      <td>115.80</td>\n",
              "      <td>150.54</td>\n",
              "      <td>32</td>\n",
              "    </tr>\n",
              "    <tr>\n",
              "      <th>11</th>\n",
              "      <td>2016-12-01</td>\n",
              "      <td>344</td>\n",
              "      <td>1341.6</td>\n",
              "      <td>206.40</td>\n",
              "      <td>244.37</td>\n",
              "      <td>31</td>\n",
              "    </tr>\n",
              "    <tr>\n",
              "      <th>12</th>\n",
              "      <td>2017-01-01</td>\n",
              "      <td>347</td>\n",
              "      <td>1353.3</td>\n",
              "      <td>208.20</td>\n",
              "      <td>263.64</td>\n",
              "      <td>33</td>\n",
              "    </tr>\n",
              "    <tr>\n",
              "      <th>13</th>\n",
              "      <td>2017-02-01</td>\n",
              "      <td>330</td>\n",
              "      <td>1287.0</td>\n",
              "      <td>198.00</td>\n",
              "      <td>214.32</td>\n",
              "      <td>27</td>\n",
              "    </tr>\n",
              "    <tr>\n",
              "      <th>14</th>\n",
              "      <td>2017-03-01</td>\n",
              "      <td>185</td>\n",
              "      <td>1103.0</td>\n",
              "      <td>139.38</td>\n",
              "      <td>151.54</td>\n",
              "      <td>31</td>\n",
              "    </tr>\n",
              "    <tr>\n",
              "      <th>15</th>\n",
              "      <td>2017-04-01</td>\n",
              "      <td>179</td>\n",
              "      <td>704.0</td>\n",
              "      <td>109.26</td>\n",
              "      <td>118.79</td>\n",
              "      <td>29</td>\n",
              "    </tr>\n",
              "    <tr>\n",
              "      <th>16</th>\n",
              "      <td>2017-05-01</td>\n",
              "      <td>228</td>\n",
              "      <td>829.0</td>\n",
              "      <td>140.89</td>\n",
              "      <td>153.18</td>\n",
              "      <td>31</td>\n",
              "    </tr>\n",
              "    <tr>\n",
              "      <th>17</th>\n",
              "      <td>2017-06-01</td>\n",
              "      <td>359</td>\n",
              "      <td>1067.0</td>\n",
              "      <td>195.07</td>\n",
              "      <td>212.08</td>\n",
              "      <td>31</td>\n",
              "    </tr>\n",
              "    <tr>\n",
              "      <th>18</th>\n",
              "      <td>2017-07-01</td>\n",
              "      <td>468</td>\n",
              "      <td>1533.0</td>\n",
              "      <td>258.64</td>\n",
              "      <td>281.19</td>\n",
              "      <td>32</td>\n",
              "    </tr>\n",
              "    <tr>\n",
              "      <th>19</th>\n",
              "      <td>2017-08-01</td>\n",
              "      <td>400</td>\n",
              "      <td>1252.0</td>\n",
              "      <td>218.87</td>\n",
              "      <td>237.97</td>\n",
              "      <td>30</td>\n",
              "    </tr>\n",
              "    <tr>\n",
              "      <th>20</th>\n",
              "      <td>2017-09-01</td>\n",
              "      <td>432</td>\n",
              "      <td>1447.0</td>\n",
              "      <td>261.50</td>\n",
              "      <td>284.30</td>\n",
              "      <td>30</td>\n",
              "    </tr>\n",
              "    <tr>\n",
              "      <th>21</th>\n",
              "      <td>2017-10-01</td>\n",
              "      <td>253</td>\n",
              "      <td>777.0</td>\n",
              "      <td>158.83</td>\n",
              "      <td>172.69</td>\n",
              "      <td>31</td>\n",
              "    </tr>\n",
              "    <tr>\n",
              "      <th>22</th>\n",
              "      <td>2017-11-01</td>\n",
              "      <td>165</td>\n",
              "      <td>521.0</td>\n",
              "      <td>102.57</td>\n",
              "      <td>111.51</td>\n",
              "      <td>29</td>\n",
              "    </tr>\n",
              "    <tr>\n",
              "      <th>23</th>\n",
              "      <td>2017-12-01</td>\n",
              "      <td>186</td>\n",
              "      <td>912.0</td>\n",
              "      <td>139.27</td>\n",
              "      <td>151.42</td>\n",
              "      <td>31</td>\n",
              "    </tr>\n",
              "    <tr>\n",
              "      <th>24</th>\n",
              "      <td>2018-01-01</td>\n",
              "      <td>316</td>\n",
              "      <td>1869.0</td>\n",
              "      <td>245.88</td>\n",
              "      <td>267.32</td>\n",
              "      <td>33</td>\n",
              "    </tr>\n",
              "    <tr>\n",
              "      <th>25</th>\n",
              "      <td>2018-02-01</td>\n",
              "      <td>256</td>\n",
              "      <td>1229.0</td>\n",
              "      <td>185.20</td>\n",
              "      <td>201.35</td>\n",
              "      <td>29</td>\n",
              "    </tr>\n",
              "    <tr>\n",
              "      <th>26</th>\n",
              "      <td>2018-03-01</td>\n",
              "      <td>266</td>\n",
              "      <td>1337.0</td>\n",
              "      <td>194.50</td>\n",
              "      <td>202.91</td>\n",
              "      <td>26</td>\n",
              "    </tr>\n",
              "    <tr>\n",
              "      <th>27</th>\n",
              "      <td>2018-04-01</td>\n",
              "      <td>141</td>\n",
              "      <td>812.0</td>\n",
              "      <td>143.44</td>\n",
              "      <td>150.86</td>\n",
              "      <td>34</td>\n",
              "    </tr>\n",
              "    <tr>\n",
              "      <th>28</th>\n",
              "      <td>2018-05-01</td>\n",
              "      <td>167</td>\n",
              "      <td>791.0</td>\n",
              "      <td>154.70</td>\n",
              "      <td>163.07</td>\n",
              "      <td>29</td>\n",
              "    </tr>\n",
              "    <tr>\n",
              "      <th>29</th>\n",
              "      <td>2018-06-01</td>\n",
              "      <td>257</td>\n",
              "      <td>1051.0</td>\n",
              "      <td>208.55</td>\n",
              "      <td>219.76</td>\n",
              "      <td>30</td>\n",
              "    </tr>\n",
              "    <tr>\n",
              "      <th>30</th>\n",
              "      <td>2018-07-01</td>\n",
              "      <td>295</td>\n",
              "      <td>1482.0</td>\n",
              "      <td>269.93</td>\n",
              "      <td>283.98</td>\n",
              "      <td>33</td>\n",
              "    </tr>\n",
              "    <tr>\n",
              "      <th>31</th>\n",
              "      <td>2018-08-01</td>\n",
              "      <td>330</td>\n",
              "      <td>1470.0</td>\n",
              "      <td>275.71</td>\n",
              "      <td>290.15</td>\n",
              "      <td>29</td>\n",
              "    </tr>\n",
              "    <tr>\n",
              "      <th>32</th>\n",
              "      <td>2018-09-01</td>\n",
              "      <td>261</td>\n",
              "      <td>1375.0</td>\n",
              "      <td>245.48</td>\n",
              "      <td>257.96</td>\n",
              "      <td>26</td>\n",
              "    </tr>\n",
              "    <tr>\n",
              "      <th>33</th>\n",
              "      <td>2018-10-01</td>\n",
              "      <td>366</td>\n",
              "      <td>1705.0</td>\n",
              "      <td>311.34</td>\n",
              "      <td>327.19</td>\n",
              "      <td>25</td>\n",
              "    </tr>\n",
              "    <tr>\n",
              "      <th>34</th>\n",
              "      <td>2018-11-01</td>\n",
              "      <td>245</td>\n",
              "      <td>1036.0</td>\n",
              "      <td>184.40</td>\n",
              "      <td>193.49</td>\n",
              "      <td>30</td>\n",
              "    </tr>\n",
              "    <tr>\n",
              "      <th>35</th>\n",
              "      <td>2018-12-01</td>\n",
              "      <td>125</td>\n",
              "      <td>899.0</td>\n",
              "      <td>145.26</td>\n",
              "      <td>152.34</td>\n",
              "      <td>32</td>\n",
              "    </tr>\n",
              "    <tr>\n",
              "      <th>36</th>\n",
              "      <td>2019-01-01</td>\n",
              "      <td>151</td>\n",
              "      <td>1257.0</td>\n",
              "      <td>187.91</td>\n",
              "      <td>196.62</td>\n",
              "      <td>31</td>\n",
              "    </tr>\n",
              "    <tr>\n",
              "      <th>37</th>\n",
              "      <td>2019-02-01</td>\n",
              "      <td>121</td>\n",
              "      <td>1281.0</td>\n",
              "      <td>181.85</td>\n",
              "      <td>190.07</td>\n",
              "      <td>31</td>\n",
              "    </tr>\n",
              "    <tr>\n",
              "      <th>38</th>\n",
              "      <td>2019-03-01</td>\n",
              "      <td>128</td>\n",
              "      <td>1351.0</td>\n",
              "      <td>190.04</td>\n",
              "      <td>198.57</td>\n",
              "      <td>27</td>\n",
              "    </tr>\n",
              "    <tr>\n",
              "      <th>39</th>\n",
              "      <td>2019-04-01</td>\n",
              "      <td>95</td>\n",
              "      <td>683.0</td>\n",
              "      <td>111.62</td>\n",
              "      <td>115.15</td>\n",
              "      <td>31</td>\n",
              "    </tr>\n",
              "    <tr>\n",
              "      <th>40</th>\n",
              "      <td>2019-05-01</td>\n",
              "      <td>162</td>\n",
              "      <td>783.0</td>\n",
              "      <td>147.83</td>\n",
              "      <td>153.18</td>\n",
              "      <td>29</td>\n",
              "    </tr>\n",
              "    <tr>\n",
              "      <th>41</th>\n",
              "      <td>2019-06-01</td>\n",
              "      <td>131</td>\n",
              "      <td>722.0</td>\n",
              "      <td>127.51</td>\n",
              "      <td>138.53</td>\n",
              "      <td>31</td>\n",
              "    </tr>\n",
              "    <tr>\n",
              "      <th>42</th>\n",
              "      <td>2019-07-01</td>\n",
              "      <td>276</td>\n",
              "      <td>1254.0</td>\n",
              "      <td>219.52</td>\n",
              "      <td>238.48</td>\n",
              "      <td>31</td>\n",
              "    </tr>\n",
              "    <tr>\n",
              "      <th>43</th>\n",
              "      <td>2019-08-01</td>\n",
              "      <td>376</td>\n",
              "      <td>1636.0</td>\n",
              "      <td>284.90</td>\n",
              "      <td>309.65</td>\n",
              "      <td>30</td>\n",
              "    </tr>\n",
              "    <tr>\n",
              "      <th>44</th>\n",
              "      <td>2019-09-01</td>\n",
              "      <td>501</td>\n",
              "      <td>2139.0</td>\n",
              "      <td>371.61</td>\n",
              "      <td>403.89</td>\n",
              "      <td>34</td>\n",
              "    </tr>\n",
              "    <tr>\n",
              "      <th>45</th>\n",
              "      <td>2019-10-01</td>\n",
              "      <td>279</td>\n",
              "      <td>1309.0</td>\n",
              "      <td>224.52</td>\n",
              "      <td>244.03</td>\n",
              "      <td>27</td>\n",
              "    </tr>\n",
              "    <tr>\n",
              "      <th>46</th>\n",
              "      <td>2019-11-01</td>\n",
              "      <td>171</td>\n",
              "      <td>843.0</td>\n",
              "      <td>133.84</td>\n",
              "      <td>145.46</td>\n",
              "      <td>31</td>\n",
              "    </tr>\n",
              "    <tr>\n",
              "      <th>47</th>\n",
              "      <td>2019-12-01</td>\n",
              "      <td>99</td>\n",
              "      <td>927.0</td>\n",
              "      <td>128.12</td>\n",
              "      <td>139.26</td>\n",
              "      <td>32</td>\n",
              "    </tr>\n",
              "    <tr>\n",
              "      <th>48</th>\n",
              "      <td>2020-01-01</td>\n",
              "      <td>211</td>\n",
              "      <td>1761.0</td>\n",
              "      <td>231.71</td>\n",
              "      <td>251.85</td>\n",
              "      <td>31</td>\n",
              "    </tr>\n",
              "    <tr>\n",
              "      <th>49</th>\n",
              "      <td>2020-02-01</td>\n",
              "      <td>190</td>\n",
              "      <td>1635.0</td>\n",
              "      <td>210.86</td>\n",
              "      <td>229.18</td>\n",
              "      <td>32</td>\n",
              "    </tr>\n",
              "    <tr>\n",
              "      <th>50</th>\n",
              "      <td>2020-03-01</td>\n",
              "      <td>151</td>\n",
              "      <td>1179.0</td>\n",
              "      <td>156.56</td>\n",
              "      <td>170.16</td>\n",
              "      <td>29</td>\n",
              "    </tr>\n",
              "    <tr>\n",
              "      <th>51</th>\n",
              "      <td>2020-04-01</td>\n",
              "      <td>75</td>\n",
              "      <td>625.0</td>\n",
              "      <td>87.27</td>\n",
              "      <td>94.85</td>\n",
              "      <td>29</td>\n",
              "    </tr>\n",
              "    <tr>\n",
              "      <th>52</th>\n",
              "      <td>2020-05-01</td>\n",
              "      <td>147</td>\n",
              "      <td>686.0</td>\n",
              "      <td>124.39</td>\n",
              "      <td>135.19</td>\n",
              "      <td>29</td>\n",
              "    </tr>\n",
              "  </tbody>\n",
              "</table>\n",
              "</div>"
            ],
            "text/plain": [
              "    Bill_Date  On_peak  Off_peak  Usage_charge  Billed_amount  Billing_days\n",
              "0  2016-01-01      365    1423.5        219.00         247.73            31\n",
              "1  2016-02-01      292    1138.8        175.20         234.11            31\n",
              "2  2016-03-01      130     507.0         78.00         123.85            29\n",
              "3  2016-04-01      117     456.3         70.20         111.22            29\n",
              "4  2016-05-01      136     530.4         81.60         118.37            29\n",
              "5  2016-06-01       63     245.7         37.80          77.81            32\n",
              "6  2016-07-01      110     429.0         66.00          86.67            30\n",
              "7  2016-08-01      176     686.4        105.60         122.40            29\n",
              "8  2016-09-01      357    1392.3        214.20         223.62            33\n",
              "9  2016-10-01      235     916.5        141.00         152.54            29\n",
              "10 2016-11-01      193     752.7        115.80         150.54            32\n",
              "11 2016-12-01      344    1341.6        206.40         244.37            31\n",
              "12 2017-01-01      347    1353.3        208.20         263.64            33\n",
              "13 2017-02-01      330    1287.0        198.00         214.32            27\n",
              "14 2017-03-01      185    1103.0        139.38         151.54            31\n",
              "15 2017-04-01      179     704.0        109.26         118.79            29\n",
              "16 2017-05-01      228     829.0        140.89         153.18            31\n",
              "17 2017-06-01      359    1067.0        195.07         212.08            31\n",
              "18 2017-07-01      468    1533.0        258.64         281.19            32\n",
              "19 2017-08-01      400    1252.0        218.87         237.97            30\n",
              "20 2017-09-01      432    1447.0        261.50         284.30            30\n",
              "21 2017-10-01      253     777.0        158.83         172.69            31\n",
              "22 2017-11-01      165     521.0        102.57         111.51            29\n",
              "23 2017-12-01      186     912.0        139.27         151.42            31\n",
              "24 2018-01-01      316    1869.0        245.88         267.32            33\n",
              "25 2018-02-01      256    1229.0        185.20         201.35            29\n",
              "26 2018-03-01      266    1337.0        194.50         202.91            26\n",
              "27 2018-04-01      141     812.0        143.44         150.86            34\n",
              "28 2018-05-01      167     791.0        154.70         163.07            29\n",
              "29 2018-06-01      257    1051.0        208.55         219.76            30\n",
              "30 2018-07-01      295    1482.0        269.93         283.98            33\n",
              "31 2018-08-01      330    1470.0        275.71         290.15            29\n",
              "32 2018-09-01      261    1375.0        245.48         257.96            26\n",
              "33 2018-10-01      366    1705.0        311.34         327.19            25\n",
              "34 2018-11-01      245    1036.0        184.40         193.49            30\n",
              "35 2018-12-01      125     899.0        145.26         152.34            32\n",
              "36 2019-01-01      151    1257.0        187.91         196.62            31\n",
              "37 2019-02-01      121    1281.0        181.85         190.07            31\n",
              "38 2019-03-01      128    1351.0        190.04         198.57            27\n",
              "39 2019-04-01       95     683.0        111.62         115.15            31\n",
              "40 2019-05-01      162     783.0        147.83         153.18            29\n",
              "41 2019-06-01      131     722.0        127.51         138.53            31\n",
              "42 2019-07-01      276    1254.0        219.52         238.48            31\n",
              "43 2019-08-01      376    1636.0        284.90         309.65            30\n",
              "44 2019-09-01      501    2139.0        371.61         403.89            34\n",
              "45 2019-10-01      279    1309.0        224.52         244.03            27\n",
              "46 2019-11-01      171     843.0        133.84         145.46            31\n",
              "47 2019-12-01       99     927.0        128.12         139.26            32\n",
              "48 2020-01-01      211    1761.0        231.71         251.85            31\n",
              "49 2020-02-01      190    1635.0        210.86         229.18            32\n",
              "50 2020-03-01      151    1179.0        156.56         170.16            29\n",
              "51 2020-04-01       75     625.0         87.27          94.85            29\n",
              "52 2020-05-01      147     686.0        124.39         135.19            29"
            ]
          },
          "metadata": {
            "tags": []
          },
          "execution_count": 5
        }
      ]
    },
    {
      "cell_type": "code",
      "metadata": {
        "id": "KHXUmVGyJLtF",
        "colab": {
          "base_uri": "https://localhost:8080/"
        },
        "outputId": "11a05692-36e8-4848-de23-41bee4a0b658"
      },
      "source": [
        "df.info()"
      ],
      "execution_count": 6,
      "outputs": [
        {
          "output_type": "stream",
          "text": [
            "<class 'pandas.core.frame.DataFrame'>\n",
            "RangeIndex: 53 entries, 0 to 52\n",
            "Data columns (total 6 columns):\n",
            " #   Column         Non-Null Count  Dtype         \n",
            "---  ------         --------------  -----         \n",
            " 0   Bill_Date      53 non-null     datetime64[ns]\n",
            " 1   On_peak        53 non-null     int64         \n",
            " 2   Off_peak       53 non-null     float64       \n",
            " 3   Usage_charge   53 non-null     float64       \n",
            " 4   Billed_amount  53 non-null     float64       \n",
            " 5   Billing_days   53 non-null     int64         \n",
            "dtypes: datetime64[ns](1), float64(3), int64(2)\n",
            "memory usage: 2.6 KB\n"
          ],
          "name": "stdout"
        }
      ]
    },
    {
      "cell_type": "code",
      "metadata": {
        "id": "ekRbR-YqwEtA",
        "colab": {
          "base_uri": "https://localhost:8080/"
        },
        "outputId": "fdf1d9aa-491e-4c29-b361-89d60c13a181"
      },
      "source": [
        "print (\"Rows     : \" ,df.shape[0])\n",
        "print (\"Columns  : \" ,df.shape[1])\n",
        "print (\"\\nFeatures : \\n\" ,df.columns.tolist())\n",
        "print (\"\\nMissing values :  \", df.isnull().any())\n",
        "print (\"\\nUnique values :  \\n\",df.nunique())"
      ],
      "execution_count": 7,
      "outputs": [
        {
          "output_type": "stream",
          "text": [
            "Rows     :  53\n",
            "Columns  :  6\n",
            "\n",
            "Features : \n",
            " ['Bill_Date', 'On_peak', 'Off_peak', 'Usage_charge', 'Billed_amount', 'Billing_days']\n",
            "\n",
            "Missing values :   Bill_Date        False\n",
            "On_peak          False\n",
            "Off_peak         False\n",
            "Usage_charge     False\n",
            "Billed_amount    False\n",
            "Billing_days     False\n",
            "dtype: bool\n",
            "\n",
            "Unique values :  \n",
            " Bill_Date        53\n",
            "On_peak          51\n",
            "Off_peak         53\n",
            "Usage_charge     53\n",
            "Billed_amount    52\n",
            "Billing_days      9\n",
            "dtype: int64\n"
          ],
          "name": "stdout"
        }
      ]
    },
    {
      "cell_type": "code",
      "metadata": {
        "id": "1oKlNM0Vfogp"
      },
      "source": [
        "ec_df = df.set_index('Bill_Date')"
      ],
      "execution_count": 8,
      "outputs": []
    },
    {
      "cell_type": "code",
      "metadata": {
        "id": "1BnU-vnefvyt",
        "colab": {
          "base_uri": "https://localhost:8080/",
          "height": 237
        },
        "outputId": "47ae852a-84c9-4e82-d82a-e96733f6dea5"
      },
      "source": [
        "ec_df.head()"
      ],
      "execution_count": 9,
      "outputs": [
        {
          "output_type": "execute_result",
          "data": {
            "text/html": [
              "<div>\n",
              "<style scoped>\n",
              "    .dataframe tbody tr th:only-of-type {\n",
              "        vertical-align: middle;\n",
              "    }\n",
              "\n",
              "    .dataframe tbody tr th {\n",
              "        vertical-align: top;\n",
              "    }\n",
              "\n",
              "    .dataframe thead th {\n",
              "        text-align: right;\n",
              "    }\n",
              "</style>\n",
              "<table border=\"1\" class=\"dataframe\">\n",
              "  <thead>\n",
              "    <tr style=\"text-align: right;\">\n",
              "      <th></th>\n",
              "      <th>On_peak</th>\n",
              "      <th>Off_peak</th>\n",
              "      <th>Usage_charge</th>\n",
              "      <th>Billed_amount</th>\n",
              "      <th>Billing_days</th>\n",
              "    </tr>\n",
              "    <tr>\n",
              "      <th>Bill_Date</th>\n",
              "      <th></th>\n",
              "      <th></th>\n",
              "      <th></th>\n",
              "      <th></th>\n",
              "      <th></th>\n",
              "    </tr>\n",
              "  </thead>\n",
              "  <tbody>\n",
              "    <tr>\n",
              "      <th>2016-01-01</th>\n",
              "      <td>365</td>\n",
              "      <td>1423.5</td>\n",
              "      <td>219.0</td>\n",
              "      <td>247.73</td>\n",
              "      <td>31</td>\n",
              "    </tr>\n",
              "    <tr>\n",
              "      <th>2016-02-01</th>\n",
              "      <td>292</td>\n",
              "      <td>1138.8</td>\n",
              "      <td>175.2</td>\n",
              "      <td>234.11</td>\n",
              "      <td>31</td>\n",
              "    </tr>\n",
              "    <tr>\n",
              "      <th>2016-03-01</th>\n",
              "      <td>130</td>\n",
              "      <td>507.0</td>\n",
              "      <td>78.0</td>\n",
              "      <td>123.85</td>\n",
              "      <td>29</td>\n",
              "    </tr>\n",
              "    <tr>\n",
              "      <th>2016-04-01</th>\n",
              "      <td>117</td>\n",
              "      <td>456.3</td>\n",
              "      <td>70.2</td>\n",
              "      <td>111.22</td>\n",
              "      <td>29</td>\n",
              "    </tr>\n",
              "    <tr>\n",
              "      <th>2016-05-01</th>\n",
              "      <td>136</td>\n",
              "      <td>530.4</td>\n",
              "      <td>81.6</td>\n",
              "      <td>118.37</td>\n",
              "      <td>29</td>\n",
              "    </tr>\n",
              "  </tbody>\n",
              "</table>\n",
              "</div>"
            ],
            "text/plain": [
              "            On_peak  Off_peak  Usage_charge  Billed_amount  Billing_days\n",
              "Bill_Date                                                               \n",
              "2016-01-01      365    1423.5         219.0         247.73            31\n",
              "2016-02-01      292    1138.8         175.2         234.11            31\n",
              "2016-03-01      130     507.0          78.0         123.85            29\n",
              "2016-04-01      117     456.3          70.2         111.22            29\n",
              "2016-05-01      136     530.4          81.6         118.37            29"
            ]
          },
          "metadata": {
            "tags": []
          },
          "execution_count": 9
        }
      ]
    },
    {
      "cell_type": "code",
      "metadata": {
        "id": "0sTtaV86a76l",
        "colab": {
          "base_uri": "https://localhost:8080/"
        },
        "outputId": "c35d285e-fb7d-4a94-95d8-ae5983d661e8"
      },
      "source": [
        "ec_data = ec_df['Billed_amount']\n",
        "ec_data.head()"
      ],
      "execution_count": 10,
      "outputs": [
        {
          "output_type": "execute_result",
          "data": {
            "text/plain": [
              "Bill_Date\n",
              "2016-01-01    247.73\n",
              "2016-02-01    234.11\n",
              "2016-03-01    123.85\n",
              "2016-04-01    111.22\n",
              "2016-05-01    118.37\n",
              "Name: Billed_amount, dtype: float64"
            ]
          },
          "metadata": {
            "tags": []
          },
          "execution_count": 10
        }
      ]
    },
    {
      "cell_type": "code",
      "metadata": {
        "id": "McpB6CtVcjMN",
        "colab": {
          "base_uri": "https://localhost:8080/",
          "height": 411
        },
        "outputId": "fdbb229b-4905-4b49-f1ea-7d48d9c728d0"
      },
      "source": [
        "ec_data.plot(grid=True)\n"
      ],
      "execution_count": 11,
      "outputs": [
        {
          "output_type": "execute_result",
          "data": {
            "text/plain": [
              "<matplotlib.axes._subplots.AxesSubplot at 0x7f0ea5f831d0>"
            ]
          },
          "metadata": {
            "tags": []
          },
          "execution_count": 11
        },
        {
          "output_type": "display_data",
          "data": {
            "image/png": "[encoded data removed]",
            "text/plain": [
              "<Figure size 576x432 with 1 Axes>"
            ]
          },
          "metadata": {
            "tags": []
          }
        }
      ]
    },
    {
      "cell_type": "code",
      "metadata": {
        "id": "yBCZn1zUPWRJ",
        "colab": {
          "base_uri": "https://localhost:8080/",
          "height": 423
        },
        "outputId": "59311184-904a-4494-b205-80ba7d88fd4c"
      },
      "source": [
        "ec_df_2019=ec_df.loc['2019']\n",
        "ec_data_2019=ec_df_2019['Billed_amount']\n",
        "ec_data_2019.plot(grid=True)"
      ],
      "execution_count": 12,
      "outputs": [
        {
          "output_type": "execute_result",
          "data": {
            "text/plain": [
              "<matplotlib.axes._subplots.AxesSubplot at 0x7f0ea5e83fd0>"
            ]
          },
          "metadata": {
            "tags": []
          },
          "execution_count": 12
        },
        {
          "output_type": "display_data",
          "data": {
            "image/png": "[encoded data removed]",
            "text/plain": [
              "<Figure size 576x432 with 1 Axes>"
            ]
          },
          "metadata": {
            "tags": []
          }
        }
      ]
    },
    {
      "cell_type": "code",
      "metadata": {
        "id": "DYOMJac8RKUD",
        "colab": {
          "base_uri": "https://localhost:8080/",
          "height": 517
        },
        "outputId": "c6a64415-f22c-4630-cfbe-0f6490cf22de"
      },
      "source": [
        "ec_df_2019=ec_df.loc['2019']\n",
        "ec_data_2019=ec_df_2019['Billed_amount']\n",
        "ec_data_2019.plot.bar()"
      ],
      "execution_count": 13,
      "outputs": [
        {
          "output_type": "execute_result",
          "data": {
            "text/plain": [
              "<matplotlib.axes._subplots.AxesSubplot at 0x7f0ea5956dd0>"
            ]
          },
          "metadata": {
            "tags": []
          },
          "execution_count": 13
        },
        {
          "output_type": "display_data",
          "data": {
            "image/png": "[encoded data removed]",
            "text/plain": [
              "<Figure size 576x432 with 1 Axes>"
            ]
          },
          "metadata": {
            "tags": []
          }
        }
      ]
    },
    {
      "cell_type": "code",
      "metadata": {
        "id": "MUMprmLoH2RD",
        "colab": {
          "base_uri": "https://localhost:8080/",
          "height": 471
        },
        "outputId": "65161946-c386-4635-ef9b-69f8ce7f362d"
      },
      "source": [
        "ec_df_2019=ec_df.loc['2019']\n",
        "ec_data_2019=ec_df_2019[['Billed_amount','On_peak','Off_peak','Billing_days']]\n",
        "ec_data_2019.plot(subplots=True)"
      ],
      "execution_count": 14,
      "outputs": [
        {
          "output_type": "execute_result",
          "data": {
            "text/plain": [
              "array([<matplotlib.axes._subplots.AxesSubplot object at 0x7f0ea58e6b10>,\n",
              "       <matplotlib.axes._subplots.AxesSubplot object at 0x7f0ea5892f50>,\n",
              "       <matplotlib.axes._subplots.AxesSubplot object at 0x7f0ea5e0fdd0>,\n",
              "       <matplotlib.axes._subplots.AxesSubplot object at 0x7f0ea5806590>],\n",
              "      dtype=object)"
            ]
          },
          "metadata": {
            "tags": []
          },
          "execution_count": 14
        },
        {
          "output_type": "display_data",
          "data": {
            "image/png": "[encoded data removed]",
            "text/plain": [
              "<Figure size 576x432 with 4 Axes>"
            ]
          },
          "metadata": {
            "tags": []
          }
        }
      ]
    },
    {
      "cell_type": "code",
      "metadata": {
        "id": "VsRF5qBxoWnq"
      },
      "source": [
        "final_df = df.copy()"
      ],
      "execution_count": 15,
      "outputs": []
    },
    {
      "cell_type": "code",
      "metadata": {
        "id": "bJHsRdAl5C6I",
        "colab": {
          "base_uri": "https://localhost:8080/",
          "height": 363
        },
        "outputId": "1285a5bc-8245-4241-dfb1-887b4ccc0e71"
      },
      "source": [
        "final_df.head(10)"
      ],
      "execution_count": 16,
      "outputs": [
        {
          "output_type": "execute_result",
          "data": {
            "text/html": [
              "<div>\n",
              "<style scoped>\n",
              "    .dataframe tbody tr th:only-of-type {\n",
              "        vertical-align: middle;\n",
              "    }\n",
              "\n",
              "    .dataframe tbody tr th {\n",
              "        vertical-align: top;\n",
              "    }\n",
              "\n",
              "    .dataframe thead th {\n",
              "        text-align: right;\n",
              "    }\n",
              "</style>\n",
              "<table border=\"1\" class=\"dataframe\">\n",
              "  <thead>\n",
              "    <tr style=\"text-align: right;\">\n",
              "      <th></th>\n",
              "      <th>Bill_Date</th>\n",
              "      <th>On_peak</th>\n",
              "      <th>Off_peak</th>\n",
              "      <th>Usage_charge</th>\n",
              "      <th>Billed_amount</th>\n",
              "      <th>Billing_days</th>\n",
              "    </tr>\n",
              "  </thead>\n",
              "  <tbody>\n",
              "    <tr>\n",
              "      <th>0</th>\n",
              "      <td>2016-01-01</td>\n",
              "      <td>365</td>\n",
              "      <td>1423.5</td>\n",
              "      <td>219.0</td>\n",
              "      <td>247.73</td>\n",
              "      <td>31</td>\n",
              "    </tr>\n",
              "    <tr>\n",
              "      <th>1</th>\n",
              "      <td>2016-02-01</td>\n",
              "      <td>292</td>\n",
              "      <td>1138.8</td>\n",
              "      <td>175.2</td>\n",
              "      <td>234.11</td>\n",
              "      <td>31</td>\n",
              "    </tr>\n",
              "    <tr>\n",
              "      <th>2</th>\n",
              "      <td>2016-03-01</td>\n",
              "      <td>130</td>\n",
              "      <td>507.0</td>\n",
              "      <td>78.0</td>\n",
              "      <td>123.85</td>\n",
              "      <td>29</td>\n",
              "    </tr>\n",
              "    <tr>\n",
              "      <th>3</th>\n",
              "      <td>2016-04-01</td>\n",
              "      <td>117</td>\n",
              "      <td>456.3</td>\n",
              "      <td>70.2</td>\n",
              "      <td>111.22</td>\n",
              "      <td>29</td>\n",
              "    </tr>\n",
              "    <tr>\n",
              "      <th>4</th>\n",
              "      <td>2016-05-01</td>\n",
              "      <td>136</td>\n",
              "      <td>530.4</td>\n",
              "      <td>81.6</td>\n",
              "      <td>118.37</td>\n",
              "      <td>29</td>\n",
              "    </tr>\n",
              "    <tr>\n",
              "      <th>5</th>\n",
              "      <td>2016-06-01</td>\n",
              "      <td>63</td>\n",
              "      <td>245.7</td>\n",
              "      <td>37.8</td>\n",
              "      <td>77.81</td>\n",
              "      <td>32</td>\n",
              "    </tr>\n",
              "    <tr>\n",
              "      <th>6</th>\n",
              "      <td>2016-07-01</td>\n",
              "      <td>110</td>\n",
              "      <td>429.0</td>\n",
              "      <td>66.0</td>\n",
              "      <td>86.67</td>\n",
              "      <td>30</td>\n",
              "    </tr>\n",
              "    <tr>\n",
              "      <th>7</th>\n",
              "      <td>2016-08-01</td>\n",
              "      <td>176</td>\n",
              "      <td>686.4</td>\n",
              "      <td>105.6</td>\n",
              "      <td>122.40</td>\n",
              "      <td>29</td>\n",
              "    </tr>\n",
              "    <tr>\n",
              "      <th>8</th>\n",
              "      <td>2016-09-01</td>\n",
              "      <td>357</td>\n",
              "      <td>1392.3</td>\n",
              "      <td>214.2</td>\n",
              "      <td>223.62</td>\n",
              "      <td>33</td>\n",
              "    </tr>\n",
              "    <tr>\n",
              "      <th>9</th>\n",
              "      <td>2016-10-01</td>\n",
              "      <td>235</td>\n",
              "      <td>916.5</td>\n",
              "      <td>141.0</td>\n",
              "      <td>152.54</td>\n",
              "      <td>29</td>\n",
              "    </tr>\n",
              "  </tbody>\n",
              "</table>\n",
              "</div>"
            ],
            "text/plain": [
              "   Bill_Date  On_peak  Off_peak  Usage_charge  Billed_amount  Billing_days\n",
              "0 2016-01-01      365    1423.5         219.0         247.73            31\n",
              "1 2016-02-01      292    1138.8         175.2         234.11            31\n",
              "2 2016-03-01      130     507.0          78.0         123.85            29\n",
              "3 2016-04-01      117     456.3          70.2         111.22            29\n",
              "4 2016-05-01      136     530.4          81.6         118.37            29\n",
              "5 2016-06-01       63     245.7          37.8          77.81            32\n",
              "6 2016-07-01      110     429.0          66.0          86.67            30\n",
              "7 2016-08-01      176     686.4         105.6         122.40            29\n",
              "8 2016-09-01      357    1392.3         214.2         223.62            33\n",
              "9 2016-10-01      235     916.5         141.0         152.54            29"
            ]
          },
          "metadata": {
            "tags": []
          },
          "execution_count": 16
        }
      ]
    },
    {
      "cell_type": "code",
      "metadata": {
        "id": "04OS1JBzKkCy"
      },
      "source": [
        "final_df=final_df[['Bill_Date','On_peak','Off_peak','Billed_amount','Billing_days']]"
      ],
      "execution_count": 17,
      "outputs": []
    },
    {
      "cell_type": "code",
      "metadata": {
        "id": "tZriIFhrF4i7",
        "colab": {
          "base_uri": "https://localhost:8080/",
          "height": 223
        },
        "outputId": "079d12f3-0147-45b8-d0f0-83a2098d17cf"
      },
      "source": [
        "train = final_df[:50]\n",
        "test = final_df[50:]\n",
        "print(train.shape, test.shape)\n",
        "train.head()"
      ],
      "execution_count": 18,
      "outputs": [
        {
          "output_type": "stream",
          "text": [
            "(50, 5) (3, 5)\n"
          ],
          "name": "stdout"
        },
        {
          "output_type": "execute_result",
          "data": {
            "text/html": [
              "<div>\n",
              "<style scoped>\n",
              "    .dataframe tbody tr th:only-of-type {\n",
              "        vertical-align: middle;\n",
              "    }\n",
              "\n",
              "    .dataframe tbody tr th {\n",
              "        vertical-align: top;\n",
              "    }\n",
              "\n",
              "    .dataframe thead th {\n",
              "        text-align: right;\n",
              "    }\n",
              "</style>\n",
              "<table border=\"1\" class=\"dataframe\">\n",
              "  <thead>\n",
              "    <tr style=\"text-align: right;\">\n",
              "      <th></th>\n",
              "      <th>Bill_Date</th>\n",
              "      <th>On_peak</th>\n",
              "      <th>Off_peak</th>\n",
              "      <th>Billed_amount</th>\n",
              "      <th>Billing_days</th>\n",
              "    </tr>\n",
              "  </thead>\n",
              "  <tbody>\n",
              "    <tr>\n",
              "      <th>0</th>\n",
              "      <td>2016-01-01</td>\n",
              "      <td>365</td>\n",
              "      <td>1423.5</td>\n",
              "      <td>247.73</td>\n",
              "      <td>31</td>\n",
              "    </tr>\n",
              "    <tr>\n",
              "      <th>1</th>\n",
              "      <td>2016-02-01</td>\n",
              "      <td>292</td>\n",
              "      <td>1138.8</td>\n",
              "      <td>234.11</td>\n",
              "      <td>31</td>\n",
              "    </tr>\n",
              "    <tr>\n",
              "      <th>2</th>\n",
              "      <td>2016-03-01</td>\n",
              "      <td>130</td>\n",
              "      <td>507.0</td>\n",
              "      <td>123.85</td>\n",
              "      <td>29</td>\n",
              "    </tr>\n",
              "    <tr>\n",
              "      <th>3</th>\n",
              "      <td>2016-04-01</td>\n",
              "      <td>117</td>\n",
              "      <td>456.3</td>\n",
              "      <td>111.22</td>\n",
              "      <td>29</td>\n",
              "    </tr>\n",
              "    <tr>\n",
              "      <th>4</th>\n",
              "      <td>2016-05-01</td>\n",
              "      <td>136</td>\n",
              "      <td>530.4</td>\n",
              "      <td>118.37</td>\n",
              "      <td>29</td>\n",
              "    </tr>\n",
              "  </tbody>\n",
              "</table>\n",
              "</div>"
            ],
            "text/plain": [
              "   Bill_Date  On_peak  Off_peak  Billed_amount  Billing_days\n",
              "0 2016-01-01      365    1423.5         247.73            31\n",
              "1 2016-02-01      292    1138.8         234.11            31\n",
              "2 2016-03-01      130     507.0         123.85            29\n",
              "3 2016-04-01      117     456.3         111.22            29\n",
              "4 2016-05-01      136     530.4         118.37            29"
            ]
          },
          "metadata": {
            "tags": []
          },
          "execution_count": 18
        }
      ]
    },
    {
      "cell_type": "code",
      "metadata": {
        "id": "HwhAwDnHF4ex"
      },
      "source": [
        "ts_column = 'Bill_Date'\n",
        "sep = ','\n",
        "target = 'Billed_amount'"
      ],
      "execution_count": 19,
      "outputs": []
    },
    {
      "cell_type": "markdown",
      "metadata": {
        "id": "Xy-GmW13YPx3"
      },
      "source": [
        "Use Verbose=1 for more detailed charts"
      ]
    },
    {
      "cell_type": "code",
      "metadata": {
        "id": "_liVTTyoF4UT"
      },
      "source": [
        "ml_dict = AT.auto_timeseries(train, ts_column,\n",
        "                            target, sep,  score_type='rmse', forecast_period=6,\n",
        "                            time_interval='Months', non_seasonal_pdq=None, seasonality=True,\n",
        "                            seasonal_period=12,seasonal_PDQ=None, model_type=['best'],\n",
        "                            verbose=2)"
      ],
      "execution_count": null,
      "outputs": []
    },
    {
      "cell_type": "code",
      "metadata": {
        "id": "NH9LotVba8TG"
      },
      "source": [
        "ml_dict = AT.auto_timeseries(score_type='rmse', non_seasonal_pdq=(2,1,2), seasonality=True, model_type=['best'], verbose=2)"
      ],
      "execution_count": 23,
      "outputs": []
    },
    {
      "cell_type": "code",
      "metadata": {
        "id": "mkO8GJ0YbP99",
        "outputId": "accb6970-1bce-4475-ea88-f793b94d566c",
        "colab": {
          "base_uri": "https://localhost:8080/"
        }
      },
      "source": [
        "ml_dict"
      ],
      "execution_count": 25,
      "outputs": [
        {
          "output_type": "execute_result",
          "data": {
            "text/plain": [
              "<auto_ts.auto_timeseries at 0x7f0ea10561d0>"
            ]
          },
          "metadata": {
            "tags": []
          },
          "execution_count": 25
        }
      ]
    },
    {
      "cell_type": "code",
      "metadata": {
        "id": "kZjqRzbGbUDf"
      },
      "source": [
        "ml_dict.fit(traindata=train[['Bill_Date','Billed_amount']], ts_column='Bill_Date', target='Billed_amount', cv=3)"
      ],
      "execution_count": null,
      "outputs": []
    },
    {
      "cell_type": "code",
      "metadata": {
        "id": "N6HLitikbT2N"
      },
      "source": [
        "ml_dict.get_leaderboard()"
      ],
      "execution_count": null,
      "outputs": []
    },
    {
      "cell_type": "code",
      "metadata": {
        "id": "0QpZNPtnbTzV"
      },
      "source": [
        "ml_dict.get_cv_scores()"
      ],
      "execution_count": null,
      "outputs": []
    },
    {
      "cell_type": "code",
      "metadata": {
        "id": "H9VdEjmw5CwA"
      },
      "source": [
        "results_dict = ml_dict.get_ml_dict()\n",
        "results_dict"
      ],
      "execution_count": null,
      "outputs": []
    },
    {
      "cell_type": "code",
      "metadata": {
        "id": "0PjxYhuDJpy6",
        "colab": {
          "base_uri": "https://localhost:8080/"
        },
        "outputId": "e44d5411-6501-4e30-c5fe-b4eb8ea8614a"
      },
      "source": [
        "results_dict['auto_SARIMAX']['forecast']"
      ],
      "execution_count": 33,
      "outputs": [
        {
          "output_type": "execute_result",
          "data": {
            "text/plain": [
              "[array([160.80677993, 215.30496206, 195.14222643, 224.17910818,\n",
              "        207.06634403]),\n",
              " array([143.8689546 , 178.47062915, 194.86562228, 223.21325042,\n",
              "        202.46918096]),\n",
              " array([405.68847567, 302.68749245, 250.12853014, 221.46948323,\n",
              "        220.7903006 ])]"
            ]
          },
          "metadata": {
            "tags": []
          },
          "execution_count": 33
        }
      ]
    },
    {
      "cell_type": "code",
      "metadata": {
        "id": "J2ODKcflcPCu",
        "outputId": "832673f5-5a09-487b-df2c-92e9d9bfdaaa",
        "colab": {
          "base_uri": "https://localhost:8080/",
          "height": 143
        }
      },
      "source": [
        "future_predictions = ml_dict.predict(testdata=test[['Bill_Date','Billed_amount']], model='auto_SARIMAX')  \n",
        "future_predictions"
      ],
      "execution_count": 35,
      "outputs": [
        {
          "output_type": "execute_result",
          "data": {
            "text/html": [
              "<div>\n",
              "<style scoped>\n",
              "    .dataframe tbody tr th:only-of-type {\n",
              "        vertical-align: middle;\n",
              "    }\n",
              "\n",
              "    .dataframe tbody tr th {\n",
              "        vertical-align: top;\n",
              "    }\n",
              "\n",
              "    .dataframe thead th {\n",
              "        text-align: right;\n",
              "    }\n",
              "</style>\n",
              "<table border=\"1\" class=\"dataframe\">\n",
              "  <thead>\n",
              "    <tr style=\"text-align: right;\">\n",
              "      <th>Billed_amount</th>\n",
              "      <th>yhat</th>\n",
              "      <th>mean_se</th>\n",
              "      <th>mean_ci_lower</th>\n",
              "      <th>mean_ci_upper</th>\n",
              "    </tr>\n",
              "  </thead>\n",
              "  <tbody>\n",
              "    <tr>\n",
              "      <th>2020-03-01</th>\n",
              "      <td>210.305594</td>\n",
              "      <td>52.050154</td>\n",
              "      <td>108.289166</td>\n",
              "      <td>312.322022</td>\n",
              "    </tr>\n",
              "    <tr>\n",
              "      <th>2020-04-01</th>\n",
              "      <td>175.975253</td>\n",
              "      <td>58.824392</td>\n",
              "      <td>60.681563</td>\n",
              "      <td>291.268944</td>\n",
              "    </tr>\n",
              "    <tr>\n",
              "      <th>2020-05-01</th>\n",
              "      <td>192.464518</td>\n",
              "      <td>58.828917</td>\n",
              "      <td>77.161959</td>\n",
              "      <td>307.767077</td>\n",
              "    </tr>\n",
              "  </tbody>\n",
              "</table>\n",
              "</div>"
            ],
            "text/plain": [
              "Billed_amount        yhat    mean_se  mean_ci_lower  mean_ci_upper\n",
              "2020-03-01     210.305594  52.050154     108.289166     312.322022\n",
              "2020-04-01     175.975253  58.824392      60.681563     291.268944\n",
              "2020-05-01     192.464518  58.828917      77.161959     307.767077"
            ]
          },
          "metadata": {
            "tags": []
          },
          "execution_count": 35
        }
      ]
    },
    {
      "cell_type": "code",
      "metadata": {
        "colab": {
          "base_uri": "https://localhost:8080/",
          "height": 143
        },
        "id": "RWxut7qWcrny",
        "outputId": "9741f562-a82b-4468-9a41-ef02c1f480a6"
      },
      "source": [
        "test"
      ],
      "execution_count": 36,
      "outputs": [
        {
          "output_type": "execute_result",
          "data": {
            "text/html": [
              "<div>\n",
              "<style scoped>\n",
              "    .dataframe tbody tr th:only-of-type {\n",
              "        vertical-align: middle;\n",
              "    }\n",
              "\n",
              "    .dataframe tbody tr th {\n",
              "        vertical-align: top;\n",
              "    }\n",
              "\n",
              "    .dataframe thead th {\n",
              "        text-align: right;\n",
              "    }\n",
              "</style>\n",
              "<table border=\"1\" class=\"dataframe\">\n",
              "  <thead>\n",
              "    <tr style=\"text-align: right;\">\n",
              "      <th></th>\n",
              "      <th>Bill_Date</th>\n",
              "      <th>On_peak</th>\n",
              "      <th>Off_peak</th>\n",
              "      <th>Billed_amount</th>\n",
              "      <th>Billing_days</th>\n",
              "    </tr>\n",
              "  </thead>\n",
              "  <tbody>\n",
              "    <tr>\n",
              "      <th>50</th>\n",
              "      <td>2020-03-01</td>\n",
              "      <td>151</td>\n",
              "      <td>1179.0</td>\n",
              "      <td>170.16</td>\n",
              "      <td>29</td>\n",
              "    </tr>\n",
              "    <tr>\n",
              "      <th>51</th>\n",
              "      <td>2020-04-01</td>\n",
              "      <td>75</td>\n",
              "      <td>625.0</td>\n",
              "      <td>94.85</td>\n",
              "      <td>29</td>\n",
              "    </tr>\n",
              "    <tr>\n",
              "      <th>52</th>\n",
              "      <td>2020-05-01</td>\n",
              "      <td>147</td>\n",
              "      <td>686.0</td>\n",
              "      <td>135.19</td>\n",
              "      <td>29</td>\n",
              "    </tr>\n",
              "  </tbody>\n",
              "</table>\n",
              "</div>"
            ],
            "text/plain": [
              "    Bill_Date  On_peak  Off_peak  Billed_amount  Billing_days\n",
              "50 2020-03-01      151    1179.0         170.16            29\n",
              "51 2020-04-01       75     625.0          94.85            29\n",
              "52 2020-05-01      147     686.0         135.19            29"
            ]
          },
          "metadata": {
            "tags": []
          },
          "execution_count": 36
        }
      ]
    },
    {
      "cell_type": "code",
      "metadata": {
        "id": "mm1o6J5Cc1jP",
        "outputId": "65a84a63-8b54-4080-a704-87d16b63bbd9",
        "colab": {
          "base_uri": "https://localhost:8080/"
        }
      },
      "source": [
        "\n",
        "future_predictions = ml_dict.predict(testdata=test[['Bill_Date','Billed_amount']], model='VAR')  \n",
        "future_predictions"
      ],
      "execution_count": 39,
      "outputs": [
        {
          "output_type": "stream",
          "text": [
            "(Error) Model of type 'VAR' does not exist. No predictions will be made.\n"
          ],
          "name": "stdout"
        }
      ]
    },
    {
      "cell_type": "code",
      "metadata": {
        "id": "9XvK0TDjc-ZH",
        "outputId": "45ff70c9-2495-4e1d-a022-31680e83402d",
        "colab": {
          "base_uri": "https://localhost:8080/",
          "height": 233
        }
      },
      "source": [
        "future_predictions = ml_dict.predict(testdata=test[['Bill_Date','Billed_amount']], model='Prophet')  \n",
        "future_predictions"
      ],
      "execution_count": 40,
      "outputs": [
        {
          "output_type": "stream",
          "text": [
            "Building Forecast dataframe. Forecast Period = 3\n"
          ],
          "name": "stdout"
        },
        {
          "output_type": "execute_result",
          "data": {
            "text/html": [
              "<div>\n",
              "<style scoped>\n",
              "    .dataframe tbody tr th:only-of-type {\n",
              "        vertical-align: middle;\n",
              "    }\n",
              "\n",
              "    .dataframe tbody tr th {\n",
              "        vertical-align: top;\n",
              "    }\n",
              "\n",
              "    .dataframe thead th {\n",
              "        text-align: right;\n",
              "    }\n",
              "</style>\n",
              "<table border=\"1\" class=\"dataframe\">\n",
              "  <thead>\n",
              "    <tr style=\"text-align: right;\">\n",
              "      <th></th>\n",
              "      <th>ds</th>\n",
              "      <th>trend</th>\n",
              "      <th>yhat_lower</th>\n",
              "      <th>yhat_upper</th>\n",
              "      <th>trend_lower</th>\n",
              "      <th>trend_upper</th>\n",
              "      <th>additive_terms</th>\n",
              "      <th>additive_terms_lower</th>\n",
              "      <th>additive_terms_upper</th>\n",
              "      <th>yearly</th>\n",
              "      <th>yearly_lower</th>\n",
              "      <th>yearly_upper</th>\n",
              "      <th>multiplicative_terms</th>\n",
              "      <th>multiplicative_terms_lower</th>\n",
              "      <th>multiplicative_terms_upper</th>\n",
              "      <th>yhat</th>\n",
              "    </tr>\n",
              "  </thead>\n",
              "  <tbody>\n",
              "    <tr>\n",
              "      <th>50</th>\n",
              "      <td>2020-02-29</td>\n",
              "      <td>236.509372</td>\n",
              "      <td>224.574221</td>\n",
              "      <td>326.911223</td>\n",
              "      <td>236.509371</td>\n",
              "      <td>236.509373</td>\n",
              "      <td>38.754600</td>\n",
              "      <td>38.754600</td>\n",
              "      <td>38.754600</td>\n",
              "      <td>38.754600</td>\n",
              "      <td>38.754600</td>\n",
              "      <td>38.754600</td>\n",
              "      <td>0.0</td>\n",
              "      <td>0.0</td>\n",
              "      <td>0.0</td>\n",
              "      <td>275.263972</td>\n",
              "    </tr>\n",
              "    <tr>\n",
              "      <th>51</th>\n",
              "      <td>2020-03-31</td>\n",
              "      <td>237.943874</td>\n",
              "      <td>85.088043</td>\n",
              "      <td>190.006012</td>\n",
              "      <td>237.943870</td>\n",
              "      <td>237.943877</td>\n",
              "      <td>-99.361344</td>\n",
              "      <td>-99.361344</td>\n",
              "      <td>-99.361344</td>\n",
              "      <td>-99.361344</td>\n",
              "      <td>-99.361344</td>\n",
              "      <td>-99.361344</td>\n",
              "      <td>0.0</td>\n",
              "      <td>0.0</td>\n",
              "      <td>0.0</td>\n",
              "      <td>138.582529</td>\n",
              "    </tr>\n",
              "    <tr>\n",
              "      <th>52</th>\n",
              "      <td>2020-04-30</td>\n",
              "      <td>239.332101</td>\n",
              "      <td>93.904143</td>\n",
              "      <td>202.063184</td>\n",
              "      <td>239.332094</td>\n",
              "      <td>239.332109</td>\n",
              "      <td>-90.347428</td>\n",
              "      <td>-90.347428</td>\n",
              "      <td>-90.347428</td>\n",
              "      <td>-90.347428</td>\n",
              "      <td>-90.347428</td>\n",
              "      <td>-90.347428</td>\n",
              "      <td>0.0</td>\n",
              "      <td>0.0</td>\n",
              "      <td>0.0</td>\n",
              "      <td>148.984673</td>\n",
              "    </tr>\n",
              "  </tbody>\n",
              "</table>\n",
              "</div>"
            ],
            "text/plain": [
              "           ds       trend  ...  multiplicative_terms_upper        yhat\n",
              "50 2020-02-29  236.509372  ...                         0.0  275.263972\n",
              "51 2020-03-31  237.943874  ...                         0.0  138.582529\n",
              "52 2020-04-30  239.332101  ...                         0.0  148.984673\n",
              "\n",
              "[3 rows x 16 columns]"
            ]
          },
          "metadata": {
            "tags": []
          },
          "execution_count": 40
        }
      ]
    },
    {
      "cell_type": "code",
      "metadata": {
        "id": "ls12EewegK8E"
      },
      "source": [
        ""
      ],
      "execution_count": null,
      "outputs": []
    }
  ]
}
